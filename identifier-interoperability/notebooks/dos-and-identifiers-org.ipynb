{
 "cells": [
  {
   "cell_type": "markdown",
   "metadata": {},
   "source": [
    "# Accessing Data Object Service via Identifiers.org"
   ]
  },
  {
   "cell_type": "markdown",
   "metadata": {},
   "source": [
    "This notebook will demonstrate how identifiers.org can be used to create stable URLs for DOS objects. These DOS objects are making available data in the Genomic Data Commons, and the metadata are public.\n",
    "\n",
    "## Access data directly from dos-gdc-lambda\n",
    "\n",
    "We'll begin by accessing a Data Object provided by the dos-gdc-lambda. Note the URL here is not expected to be stable."
   ]
  },
  {
   "cell_type": "code",
   "execution_count": 4,
   "metadata": {},
   "outputs": [
    {
     "name": "stdout",
     "output_type": "stream",
     "text": [
      "jhu-usc.edu_OV.HumanMethylation27.1.lvl-3.TCGA-09-0364-01A-02D-0359-05.gdc_hg38.txt\n"
     ]
    }
   ],
   "source": [
    "import requests\n",
    "test_id = \"23fa7b4b-9d68-429b-aece-658b11124bb3\"\n",
    "DOS_GDC_URL = \"https://dos-gdc.ucsc-cgp-dev.org/ga4gh/dos/v1\"\n",
    "response = requests.get(\"{}/dataobjects/{}\".format(DOS_GDC_URL, test_id))\n",
    "print(response.json()['data_object']['name'])"
   ]
  },
  {
   "cell_type": "markdown",
   "metadata": {},
   "source": [
    "## Create a stable URL"
   ]
  },
  {
   "cell_type": "markdown",
   "metadata": {},
   "source": [
    "Identifiers.org works by setting up redirects following a specific regex scheme. They manually curate these, and they are meant to provide stable URI's to be used across various platforms.\n",
    "\n",
    "You can see the entry for the prefix `dev.ga4ghdos` here: https://identifiers.org/dev.ga4ghdos."
   ]
  },
  {
   "cell_type": "code",
   "execution_count": 5,
   "metadata": {},
   "outputs": [
    {
     "name": "stdout",
     "output_type": "stream",
     "text": [
      "https://identifiers.org/dev.ga4ghdos:23fa7b4b-9d68-429b-aece-658b11124bb3\n"
     ]
    }
   ],
   "source": [
    "base = \"https://identifiers.org\"\n",
    "prefix = \"dev.ga4ghdos\"\n",
    "url = \"{}/{}:{}\".format(base, prefix, test_id)\n",
    "print(url)"
   ]
  },
  {
   "cell_type": "markdown",
   "metadata": {},
   "source": [
    "As mentioned above, identifiers.org creates redirects following a pattern to the underlying service. By requesting this URL, we should be redirected to the above service."
   ]
  },
  {
   "cell_type": "code",
   "execution_count": 11,
   "metadata": {},
   "outputs": [
    {
     "name": "stdout",
     "output_type": "stream",
     "text": [
      "jhu-usc.edu_OV.HumanMethylation27.1.lvl-3.TCGA-09-0364-01A-02D-0359-05.gdc_hg38.txt\n",
      "Are they equivalent?\n",
      "True\n"
     ]
    }
   ],
   "source": [
    "identifiers_org_response = requests.get(url)\n",
    "print(identifiers_org_response.json()['data_object']['name'])\n",
    "print(\"Are they equivalent?\")\n",
    "print(identifiers_org_response.json()['data_object'] == response.json()['data_object'])"
   ]
  },
  {
   "cell_type": "markdown",
   "metadata": {},
   "source": [
    "## Using cURL and wget with identifiers.org and DOS\n",
    "\n",
    "Simple http requests from the command line can be used to find our data:"
   ]
  },
  {
   "cell_type": "code",
   "execution_count": 21,
   "metadata": {},
   "outputs": [
    {
     "name": "stdout",
     "output_type": "stream",
     "text": [
      "*   Trying 193.62.193.83...\n",
      "* Connected to identifiers.org (193.62.193.83) port 443 (#0)\n",
      "* found 173 certificates in /etc/ssl/certs/ca-certificates.crt\n",
      "* found 697 certificates in /etc/ssl/certs\n",
      "* ALPN, offering http/1.1\n",
      "* SSL connection using TLS1.2 / ECDHE_RSA_AES_128_GCM_SHA256\n",
      "* \t server certificate verification OK\n",
      "* \t server certificate status verification SKIPPED\n",
      "* \t common name: identifiers.org (matched)\n",
      "* \t server certificate expiration date OK\n",
      "* \t server certificate activation date OK\n",
      "* \t certificate public key: RSA\n",
      "* \t certificate version: #3\n",
      "* \t subject: OU=Domain Control Validated,CN=identifiers.org\n",
      "* \t start date: Thu, 21 Sep 2017 14:01:01 GMT\n",
      "* \t expire date: Sun, 27 Sep 2020 12:12:39 GMT\n",
      "* \t issuer: C=US,ST=Arizona,L=Scottsdale,O=GoDaddy.com\\, Inc.,OU=http://certs.godaddy.com/repository/,CN=Go Daddy Secure Certificate Authority - G2\n",
      "* \t compression: NULL\n",
      "* ALPN, server did not agree to a protocol\n",
      "> GET /dev.ga4ghdos:23fa7b4b-9d68-429b-aece-658b11124bb3 HTTP/1.1\n",
      "> Host: identifiers.org\n",
      "> User-Agent: curl/7.50.1\n",
      "> Accept: */*\n",
      "> \n",
      "< HTTP/1.1 302 Found\n",
      "< Server: Apache-Coyote/1.1\n",
      "< Location: https://dos-gdc.ucsc-cgp-dev.org/ga4gh/dos/v1/dataobjects/23fa7b4b-9d68-429b-aece-658b11124bb3\n",
      "< Content-Length: 0\n",
      "< Date: Fri, 13 Apr 2018 23:53:01 GMT\n",
      "< \n",
      "* Connection #0 to host identifiers.org left intact\n"
     ]
    }
   ],
   "source": [
    "!curl -v $url"
   ]
  },
  {
   "cell_type": "markdown",
   "metadata": {},
   "source": [
    "Performing a request we see that cURL is redirected to a different URL with status code of `302`, to follow this redirect we add a flag `-L`."
   ]
  },
  {
   "cell_type": "code",
   "execution_count": 19,
   "metadata": {},
   "outputs": [
    {
     "name": "stdout",
     "output_type": "stream",
     "text": [
      "{\"data_object\": {\"name\": \"jhu-usc.edu_OV.HumanMethylation27.1.lvl-3.TCGA-09-0364-01A-02D-0359-05.gdc_hg38.txt\", \"version\": \"2017-03-24T18:43:16.886826-05:00\", \"urls\": [{\"url\": \"https://api.gdc.cancer.gov/data/23fa7b4b-9d68-429b-aece-658b11124bb3\", \"system_metadata\": {\"data_type\": \"Methylation Beta Value\", \"updated_datetime\": \"2017-03-24T18:43:16.886826-05:00\", \"created_datetime\": \"2016-10-27T21:58:12.297090-05:00\", \"file_name\": \"jhu-usc.edu_OV.HumanMethylation27.1.lvl-3.TCGA-09-0364-01A-02D-0359-05.gdc_hg38.txt\", \"md5sum\": \"9163285d8eadc921d7244f29faca50da\", \"data_format\": \"TXT\", \"acl\": [\"open\"], \"access\": \"open\", \"platform\": \"Illumina Human Methylation 27\", \"state\": \"live\", \"file_id\": \"23fa7b4b-9d68-429b-aece-658b11124bb3\", \"data_category\": \"DNA Methylation\", \"file_size\": 9951504, \"submitter_id\": \"cde73b7c-0a50-4444-bb33-11e3debd3f79-beta-value\", \"type\": \"methylation_beta_value\", \"file_state\": \"submitted\", \"experimental_strategy\": \"Methylation Array\"}}], \"checksums\": [{\"checksum\": \"9163285d8eadc921d7244f29faca50da\", \"type\": \"md5\"}], \"id\": \"23fa7b4b-9d68-429b-aece-658b11124bb3\", \"size\": \"9951504\"}}"
     ]
    }
   ],
   "source": [
    "!curl -L $url"
   ]
  },
  {
   "cell_type": "markdown",
   "metadata": {},
   "source": [
    "`wget` on the other hand, will follow the redirects automatically and create a file with our prefix and identifier to the local directory."
   ]
  },
  {
   "cell_type": "code",
   "execution_count": 25,
   "metadata": {},
   "outputs": [
    {
     "name": "stdout",
     "output_type": "stream",
     "text": [
      "--2018-04-13 16:54:52--  https://identifiers.org/dev.ga4ghdos:23fa7b4b-9d68-429b-aece-658b11124bb3\n",
      "Resolving identifiers.org (identifiers.org)... 193.62.193.83, 193.62.192.83\n",
      "Connecting to identifiers.org (identifiers.org)|193.62.193.83|:443... connected.\n",
      "HTTP request sent, awaiting response... 302 Found\n",
      "Location: https://dos-gdc.ucsc-cgp-dev.org/ga4gh/dos/v1/dataobjects/23fa7b4b-9d68-429b-aece-658b11124bb3 [following]\n",
      "--2018-04-13 16:54:53--  https://dos-gdc.ucsc-cgp-dev.org/ga4gh/dos/v1/dataobjects/23fa7b4b-9d68-429b-aece-658b11124bb3\n",
      "Resolving dos-gdc.ucsc-cgp-dev.org (dos-gdc.ucsc-cgp-dev.org)... 52.84.237.242, 52.84.237.116, 52.84.237.244, ...\n",
      "Connecting to dos-gdc.ucsc-cgp-dev.org (dos-gdc.ucsc-cgp-dev.org)|52.84.237.242|:443... connected.\n",
      "HTTP request sent, awaiting response... 200 OK\n",
      "Length: 1115 (1.1K) [application/json]\n",
      "Saving to: ‘dev.ga4ghdos:23fa7b4b-9d68-429b-aece-658b11124bb3’\n",
      "\n",
      "dev.ga4ghdos:23fa7b 100%[===================>]   1.09K  --.-KB/s    in 0s      \n",
      "\n",
      "2018-04-13 16:54:54 (253 MB/s) - ‘dev.ga4ghdos:23fa7b4b-9d68-429b-aece-658b11124bb3’ saved [1115/1115]\n",
      "\n"
     ]
    }
   ],
   "source": [
    "!wget $url"
   ]
  },
  {
   "cell_type": "markdown",
   "metadata": {},
   "source": [
    "## Using a DOS identifier resolver\n",
    "\n",
    "The identifiers.org resolver points at a single service, and there are multiple DOS services available. In order to make the best use of the stable identifiers, an identifier resolver can request the same identifier from multiple services, and return the client the first found, for example.\n",
    "\n",
    "By curating the list of DOS services that are being resolved by the identifiers.org gateway, it is possible to control which data are served under the controlled prefix."
   ]
  },
  {
   "cell_type": "code",
   "execution_count": null,
   "metadata": {},
   "outputs": [],
   "source": []
  }
 ],
 "metadata": {
  "kernelspec": {
   "display_name": "Python 2",
   "language": "python",
   "name": "python2"
  },
  "language_info": {
   "codemirror_mode": {
    "name": "ipython",
    "version": 2
   },
   "file_extension": ".py",
   "mimetype": "text/x-python",
   "name": "python",
   "nbconvert_exporter": "python",
   "pygments_lexer": "ipython2",
   "version": "2.7.12+"
  }
 },
 "nbformat": 4,
 "nbformat_minor": 2
}
