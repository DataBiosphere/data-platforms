{
 "cells": [
  {
   "cell_type": "markdown",
   "metadata": {},
   "source": [
    "# Resolving Identifiers Across Services"
   ]
  },
  {
   "cell_type": "markdown",
   "metadata": {},
   "source": [
    "In this notebook we will demonstrate how to resolve identifiers across services. This is allows Commons infrastructure to be built up by creating networks of connected Data Object Service instances.\n",
    "\n",
    "<img src=\"https://databiosphere.github.io/identifier-interoperability/diagrams/use-case-4_1.svg\" width=\"400\">\n",
    "\n",
    "This diagram from [Identifier Interoperability](https://DataBiosphere.github.io/identifier-interoperability) shows how DOS can be used towards federated identifier resolution. A client makes a request to an Identifier Resolution service using a standard `GetDataObjectRequest`. The Identifier Resolver Service then makes DOS requests amongst a number of trusted services and returns the result to the client.\n",
    "\n",
    "\n",
    "## Accessing data directly from UCSC CGP\n",
    "\n",
    "We'll begin by accessing data directly from UCSC's Computational Genomics platform using a `GetDataObjectRequest`."
   ]
  },
  {
   "cell_type": "code",
   "execution_count": 8,
   "metadata": {},
   "outputs": [
    {
     "name": "stdout",
     "output_type": "stream",
     "text": [
      "NWD585842.recab.cram.crai\n",
      "s3://cgp-commons-public/topmed_open_access/2d8cc7e8-f150-555c-b859-2df1ce515212/NWD585842.recab.cram.crai\n"
     ]
    }
   ],
   "source": [
    "import requests\n",
    "test_id = \"7afcc17e-5e3d-4ae0-945c-bb2e0334bb84\"\n",
    "DOS_CGP_URL = \"https://dos.commons.ucsc-cgp.org/ga4gh/dos/v1\"\n",
    "response = requests.get(\"{}/dataobjects/{}\".format(DOS_CGP_URL, test_id))\n",
    "print(response.json()['data_object']['name'])\n",
    "print(response.json()['data_object']['urls'][0]['url'])"
   ]
  },
  {
   "cell_type": "markdown",
   "metadata": {},
   "source": [
    "## Resolving A Data Object Across Full Stacks"
   ]
  },
  {
   "cell_type": "markdown",
   "metadata": {},
   "source": [
    "[dataguids.org](dataguids.org) acts as a resolver across multiple stacks. It is backed by indexd, which can proxy requests to other Data Object Service's by configuration. By adding the above Data Object Service to the configured set of resolvers registered with dataguids.org, we are able to easily resolve our data without needing to know ahead of time which Full Stack hosts it."
   ]
  },
  {
   "cell_type": "code",
   "execution_count": 15,
   "metadata": {},
   "outputs": [
    {
     "name": "stdout",
     "output_type": "stream",
     "text": [
      "s3://cgp-commons-public/topmed_open_access/2d8cc7e8-f150-555c-b859-2df1ce515212/NWD585842.recab.cram.crai\n"
     ]
    }
   ],
   "source": [
    "DG_URL = \"https://dataguids.org/ga4gh/dos/v1\"\n",
    "response = requests.get(\"{}/dataobjects/{}\".format(DG_URL, test_id))\n",
    "print(response.json()['data_object']['urls'][0]['url'])"
   ]
  },
  {
   "cell_type": "markdown",
   "metadata": {},
   "source": [
    "## DataGUIDs.org can be accessed via identifiers.org\n",
    "\n",
    "As mentioned in another notebook [DOS and identifiers.org](https://github.com/DataBiosphere/identifier-interoperability/blob/master/notebooks/dos-and-identifiers-org.ipynb) it is possible to resolve across Team Calcium full stacks using identifiers.org."
   ]
  },
  {
   "cell_type": "code",
   "execution_count": 25,
   "metadata": {},
   "outputs": [
    {
     "name": "stdout",
     "output_type": "stream",
     "text": [
      "s3://cgp-commons-public/topmed_open_access/2d8cc7e8-f150-555c-b859-2df1ce515212/NWD585842.recab.cram.crai\n"
     ]
    }
   ],
   "source": [
    "IO_URL = \"https://identifiers.org/ga4ghdos:\"\n",
    "response = requests.get(\"{}{}\".format(IO_URL, test_id))\n",
    "print(response.json()['data_object']['urls'][0]['url'])"
   ]
  },
  {
   "cell_type": "markdown",
   "metadata": {},
   "source": [
    "## Future Work\n",
    "\n",
    "Any service which implements the `GetDataObject` method can, in principle, join a networks of Commons resolvers. There is no central authority and all of the schemas are Open Source, making it easy to implement a Data Object Service in your language of choice.\n",
    "\n",
    "We are currently working to make it easy and clear not only to resolve Data in multiple locations, but across various interopable standards.\n",
    "\n",
    "Further work on this will demonstrate how Prefix Services can be used to easily reason about data replicated in multiple Full Stacks.\n",
    "\n",
    "dataguids.org works a little differently from identifiers.org, in that it makes the DOS request on behalf of the client. indexd, which backs dataguids.org supports full provenance of where resolution occurred, this [should be in the DOS response](https://github.com/ga4gh/data-object-service-schemas/issues/65).\n",
    "\n",
    "Please see the [Identifier Interoperability Issues](https://github.com/DataBiosphere/identifier-interoperability/issues) and [Data Object Service Schemas Issues](https://github.com/ga4gh/data-object-service-schemas/issues)!"
   ]
  },
  {
   "cell_type": "code",
   "execution_count": null,
   "metadata": {},
   "outputs": [],
   "source": []
  }
 ],
 "metadata": {
  "kernelspec": {
   "display_name": "Python 2",
   "language": "python",
   "name": "python2"
  },
  "language_info": {
   "codemirror_mode": {
    "name": "ipython",
    "version": 2
   },
   "file_extension": ".py",
   "mimetype": "text/x-python",
   "name": "python",
   "nbconvert_exporter": "python",
   "pygments_lexer": "ipython2",
   "version": "2.7.15rc1"
  }
 },
 "nbformat": 4,
 "nbformat_minor": 2
}
