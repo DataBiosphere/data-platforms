{
 "cells": [
  {
   "cell_type": "markdown",
   "metadata": {},
   "source": [
    "# Identifier Interoperability in the DSS\n",
    "\n",
    "This case study demonstrates how Data Objects offered by the DSS can be assigned globally unique identifiers, providing them with persistence and the ability to be found across platforms. It is meant to support the development of a common approach to [Identifier Interoperability](https://github.com/DataBiosphere/identifier-interoperability) and refers to Use Cases described there.\n",
    "\n",
    "To enable this demonstration, a development instance of the [DSS](https://github.com/HumanCellAtlas/data-store) has been prepared. The DSS is an Open Source cloud storage solution which enable replication across cloud environments. The data loaded are for demonstration and are not immediately accessible with proper credentials.\n",
    "\n",
    "The URLs used and identifiers issued in this case study should be considered ephemeral and for demonstration only.\n",
    "\n",
    "## Accessing Data Objects from the DSS\n",
    "\n",
    "* [Use Case 1.1 Get a Data Object by Data Object Identifier](https://github.com/DataBiosphere/identifier-interoperability#1.1)\n",
    "\n",
    "The DSS provides indices to data replicated across cloud storage environments. To ease interoperability, a subset of its features are provided as a Data Object Service, which enables basic listing and getting of items. We'll use the `requests` module and simple JSON requests to first get some data in the DSS.\n",
    "\n",
    "This DOS instance is backed by the (dos-azul-lambda)[https://github.com/DataBiosphere/dos-azul-lambda], which presents DSS data in a file-based index."
   ]
  },
  {
   "cell_type": "code",
   "execution_count": 19,
   "metadata": {},
   "outputs": [],
   "source": [
    "dos_azul_url = \"https://5ybh0f5iai.execute-api.us-west-2.amazonaws.com/api\"\n",
    "\n",
    "from ga4gh.dos.client import Client\n",
    "\n",
    "client = Client(dos_azul_url)\n",
    "c = client.client\n",
    "models = client.models"
   ]
  },
  {
   "cell_type": "markdown",
   "metadata": {},
   "source": [
    "Now that we have instantiated a client, we can make requests against the service to find a Data Object."
   ]
  },
  {
   "cell_type": "code",
   "execution_count": 62,
   "metadata": {},
   "outputs": [
    {
     "name": "stdout",
     "output_type": "stream",
     "text": [
      "46c8a5f1-15ab-48fa-8d1c-63099422e3c7\n",
      "NWD259170.recab.cram.crai\n"
     ]
    }
   ],
   "source": [
    "ListDataObjectsRequest = models.get_model('ListDataObjectsRequest')\n",
    "list_request = ListDataObjectsRequest(page_size=1)\n",
    "list_response = c.ListDataObjects(body=list_request).result()\n",
    "data_object = list_response.data_objects[0]\n",
    "print(data_object.id)\n",
    "print(data_object.name)"
   ]
  },
  {
   "cell_type": "markdown",
   "metadata": {},
   "source": [
    "## Generating a GUID\n",
    "\n",
    "We will use the [minid](https://github.com/fair-research/minid) service, which can be used to register identifiers using a third-party service. Generating a minid results in data that is resolvable by [Archival Resource Key](https://en.wikipedia.org/wiki/Archival_Resource_Key) and services like [n2t.net](https://n2t.net).\n",
    "\n",
    "The minid client can be installed using `pip install minid`."
   ]
  },
  {
   "cell_type": "code",
   "execution_count": 63,
   "metadata": {},
   "outputs": [
    {
     "name": "stdout",
     "output_type": "stream",
     "text": [
      "usage: minid [-h] [--register] [--batch-register] [--update] [--test] [--json]\r\n",
      "             [--server SERVER] [--title TITLE]\r\n",
      "             [--locations LOCATIONS [LOCATIONS ...]] [--status STATUS]\r\n",
      "             [--obsoleted_by OBSOLETED_BY] [--content_key CONTENT_KEY]\r\n",
      "             [--config CONFIG] [--register_user] [--email EMAIL] [--name NAME]\r\n",
      "             [--orcid ORCID] [--code CODE]\r\n",
      "             [--globus_auth_token GLOBUS_AUTH_TOKEN] [--quiet] [--version]\r\n",
      "             [filename]\r\n",
      "\r\n",
      "BD2K minid tool for assigning an identifier to data\r\n",
      "\r\n",
      "positional arguments:\r\n",
      "  filename              file or identifier to retrieve information about or\r\n",
      "                        register\r\n",
      "\r\n",
      "optional arguments:\r\n",
      "  -h, --help            show this help message and exit\r\n",
      "  --register            Register the file\r\n",
      "  --batch-register      Register multiple files listed in a JSON manifest\r\n",
      "  --update              Update a minid\r\n",
      "  --test                Run a test of this registration using the test minid\r\n",
      "                        namespace\r\n",
      "  --json                Return output as JSON\r\n",
      "  --server SERVER       Minid server\r\n",
      "  --title TITLE         Title of named file\r\n",
      "  --locations LOCATIONS [LOCATIONS ...]\r\n",
      "                        Locations for accesing the file\r\n",
      "  --status STATUS       Status of the minid (ACTIVE or TOMBSTONE)\r\n",
      "  --obsoleted_by OBSOLETED_BY\r\n",
      "                        A minid that replaces this minid\r\n",
      "  --content_key CONTENT_KEY\r\n",
      "                        A key that can be uesd to compare equivalent content\r\n",
      "  --config CONFIG\r\n",
      "  --register_user       Register a new user\r\n",
      "  --email EMAIL         User email address\r\n",
      "  --name NAME           User name\r\n",
      "  --orcid ORCID         user orcid\r\n",
      "  --code CODE           user code\r\n",
      "  --globus_auth_token GLOBUS_AUTH_TOKEN\r\n",
      "                        A valid user Globus Auth token instead of a code\r\n",
      "  --quiet               suppress logging output\r\n",
      "  --version             show program's version number and exit\r\n"
     ]
    }
   ],
   "source": [
    "!minid --help"
   ]
  },
  {
   "cell_type": "markdown",
   "metadata": {},
   "source": [
    "### Registering an Account\n",
    "\n",
    "If you would like to use the default minid server, you must first register your name and any emails or \"ORCIDs\", which are identifiers for researchers, to your account. Follow the directions here: https://github.com/fair-research/minid\n",
    "\n",
    "### Gathering necessary metadata\n",
    "\n",
    "First, we'll gather as much metadata from the item as we can usefully send to the minid service.\n",
    "\n",
    "We'll need a `title`, one or more `locations`, and a manifest of the Data Object."
   ]
  },
  {
   "cell_type": "code",
   "execution_count": 64,
   "metadata": {},
   "outputs": [
    {
     "name": "stdout",
     "output_type": "stream",
     "text": [
      "NWD259170.recab.cram.crai\n"
     ]
    }
   ],
   "source": [
    "filename = data_object.name\n",
    "print(filename)"
   ]
  },
  {
   "cell_type": "markdown",
   "metadata": {},
   "source": [
    "To get more information about the identifier, the DOS URL is provided."
   ]
  },
  {
   "cell_type": "code",
   "execution_count": 65,
   "metadata": {},
   "outputs": [
    {
     "name": "stdout",
     "output_type": "stream",
     "text": [
      "https://5ybh0f5iai.execute-api.us-west-2.amazonaws.com/api/ga4gh/dos/v1/dataobjects/46c8a5f1-15ab-48fa-8d1c-63099422e3c7\n"
     ]
    }
   ],
   "source": [
    "dos_url = '{}/ga4gh/dos/v1/dataobjects/{}'.format(dos_azul_url, data_object.id)\n",
    "print(dos_url)"
   ]
  },
  {
   "cell_type": "markdown",
   "metadata": {},
   "source": [
    "#### Generating a manifest\n",
    "\n",
    "Manifests to the minid service can take this form:\n",
    "\n",
    "```\n",
    "[\n",
    "    {\n",
    "        \"length\":321,\n",
    "        \"filename\":\"file1.json\",\n",
    "        \"md5\":\"9faccdb6f9a47a10d9a00bd2b13f7ab3\",\n",
    "        \"sha256\":\"eb42cbc9682e953a03fe83c5297093d95eec045e814517a4e891437b9b993139\"\n",
    "    },\n",
    "]\n",
    "```\n",
    "\n",
    "So we'll make a JSON using our data of the same structure and write it to the disk. This manifest is used to generate the ark."
   ]
  },
  {
   "cell_type": "code",
   "execution_count": 66,
   "metadata": {},
   "outputs": [
    {
     "name": "stdout",
     "output_type": "stream",
     "text": [
      "1230140\n",
      "NWD259170.recab.cram.crai\n",
      "md5\n",
      "be947abb597d1a21f2da9d97d96f58e7ca07a214\n"
     ]
    }
   ],
   "source": [
    "length = data_object.size\n",
    "checksum_key = data_object.checksums[0].type\n",
    "checksum = data_object.checksums[0].checksum\n",
    "print(length)\n",
    "print(filename)\n",
    "print(checksum_key)\n",
    "print(checksum)"
   ]
  },
  {
   "cell_type": "code",
   "execution_count": 67,
   "metadata": {},
   "outputs": [],
   "source": [
    "def data_object_to_minid_item(data_object):\n",
    "    return {\n",
    "        'length': data_object.size,\n",
    "        'filename': data_object.name,\n",
    "        checksum_key: checksum,\n",
    "        'url': dos_url}"
   ]
  },
  {
   "cell_type": "code",
   "execution_count": 68,
   "metadata": {},
   "outputs": [
    {
     "name": "stdout",
     "output_type": "stream",
     "text": [
      "[{'url': 'https://5ybh0f5iai.execute-api.us-west-2.amazonaws.com/api/ga4gh/dos/v1/dataobjects/46c8a5f1-15ab-48fa-8d1c-63099422e3c7', 'length': 1230140L, u'md5': u'be947abb597d1a21f2da9d97d96f58e7ca07a214', 'filename': u'NWD259170.recab.cram.crai'}]\n"
     ]
    }
   ],
   "source": [
    "minid_manifest = [data_object_to_minid_item(data_object)]\n",
    "print(minid_manifest)"
   ]
  },
  {
   "cell_type": "code",
   "execution_count": 69,
   "metadata": {},
   "outputs": [],
   "source": [
    "import json\n",
    "with open('minid.json', 'w') as outfile:\n",
    "    json.dump(minid_manifest, outfile)"
   ]
  },
  {
   "cell_type": "markdown",
   "metadata": {},
   "source": [
    "### Generating a test minid\n",
    "\n",
    "Before we issue a minid, we can test to make sure our settings are correct by issuing a test request."
   ]
  },
  {
   "cell_type": "code",
   "execution_count": 37,
   "metadata": {},
   "outputs": [
    {
     "name": "stdout",
     "output_type": "stream",
     "text": [
      "2018-04-26 16:37:58,125 - INFO - Checking if the TEST entity be947abb597d1a21f2da9d97d96f58e7ca07a214 already exists on the server: http://minid.bd2k.org/minid\n",
      "2018-04-26 16:37:58,314 - INFO - Creating new identifier\n",
      "2018-04-26 16:37:59,965 - INFO - Created/updated minid: ark:/99999/fk42j7n71s\n",
      "[\n",
      "  {\n",
      "    \"url\": \"ark:/99999/fk42j7n71s\", \n",
      "    \"length\": 1230140, \n",
      "    \"md5\": \"be947abb597d1a21f2da9d97d96f58e7ca07a214\", \n",
      "    \"filename\": \"NWD259170.recab.cram.crai\"\n",
      "  }\n",
      "]\n"
     ]
    }
   ],
   "source": [
    "!minid --batch-register --test minid.json"
   ]
  },
  {
   "cell_type": "markdown",
   "metadata": {},
   "source": [
    "### Generating a minid\n",
    "\n",
    "* Use Case 1.2 [Register the Data Object URL at an Identifier Service](https://github.com/DataBiosphere/identifier-interoperability#1.2)\n",
    "\n",
    "Since the test seemed to work, we can run it again, this time without the test flag to get an identifier we'd like to reuse."
   ]
  },
  {
   "cell_type": "code",
   "execution_count": 38,
   "metadata": {},
   "outputs": [
    {
     "name": "stdout",
     "output_type": "stream",
     "text": [
      "2018-04-26 16:39:22,705 - INFO - Checking if the entity be947abb597d1a21f2da9d97d96f58e7ca07a214 already exists on the server: http://minid.bd2k.org/minid\n",
      "2018-04-26 16:39:23,026 - INFO - Creating new identifier\n",
      "2018-04-26 16:39:24,651 - INFO - Created/updated minid: ark:/57799/b9t991\n",
      "[\n",
      "  {\n",
      "    \"url\": \"ark:/57799/b9t991\", \n",
      "    \"length\": 1230140, \n",
      "    \"md5\": \"be947abb597d1a21f2da9d97d96f58e7ca07a214\", \n",
      "    \"filename\": \"NWD259170.recab.cram.crai\"\n",
      "  }\n",
      "]\n"
     ]
    }
   ],
   "source": [
    "!minid --batch-register minid.json"
   ]
  },
  {
   "cell_type": "markdown",
   "metadata": {},
   "source": [
    "### Resolving the new minid!\n",
    "\n",
    "The minid that resolves to the Archival Resource Key `ark:/57799/b9t991` now points to our Data Object! Now, if given this identifier, a client will be able to resolve our Data Object.\n",
    "\n",
    "A landing page exists at the URL: http://minid.bd2k.org/minid/landingpage/ark:/57799/b9t991 and resolves from n2t.net as well: http://n2t.net/ark:/57799/b9t991 ."
   ]
  },
  {
   "cell_type": "markdown",
   "metadata": {},
   "source": [
    "## Updating the Data Object\n",
    "\n",
    "* [Use Case 1.3 Update the Data Object Metadata](https://github.com/DataBiosphere/identifier-interoperability#1.3)\n",
    "\n",
    "Now that we have a minid, we can link back to the item in the DSS by making an `UpdateDataObjectRequest`. This request accepts a Data Object to update in its payload and the `dos-azul-lambda` has been configured to accept `minid` as a modifiable key.\n",
    "\n",
    "Since this is an authorized request, we set a token in the header."
   ]
  },
  {
   "cell_type": "code",
   "execution_count": 70,
   "metadata": {},
   "outputs": [],
   "source": [
    "access_token = \"f4ce9d3d23f4ac9dfdc3c825608dc660\"\n",
    "data_object['aliases'].append(\"minid:ark:/57799/b9t991\")"
   ]
  },
  {
   "cell_type": "code",
   "execution_count": 74,
   "metadata": {},
   "outputs": [
    {
     "name": "stdout",
     "output_type": "stream",
     "text": [
      "46c8a5f1-15ab-48fa-8d1c-63099422e3c7\n"
     ]
    }
   ],
   "source": [
    "data_object.updated = None\n",
    "data_object.size = str(data_object.size)\n",
    "update_response = cc.client.UpdateDataObject(\n",
    "    data_object_id=data_object.id, body={'data_object': data_object},\n",
    "    _request_options={'headers': {'access_token': access_token}}).result()\n",
    "print(update_response.data_object_id)"
   ]
  },
  {
   "cell_type": "markdown",
   "metadata": {},
   "source": [
    "### Verifying the update\n",
    "\n",
    "Now that we have updated the item to include the GUID, we can check using a GetDataObjectRequest for the same Data Object."
   ]
  },
  {
   "cell_type": "code",
   "execution_count": 76,
   "metadata": {},
   "outputs": [
    {
     "name": "stdout",
     "output_type": "stream",
     "text": [
      "46c8a5f1-15ab-48fa-8d1c-63099422e3c7\n",
      "True\n"
     ]
    }
   ],
   "source": [
    "updated_object = c.GetDataObject(data_object_id=data_object.id).result().data_object\n",
    "print(updated_object.id)\n",
    "print(\"minid:ark:/57799/b9t991\" in updated_object.aliases)"
   ]
  },
  {
   "cell_type": "markdown",
   "metadata": {},
   "source": [
    "### Listing via minid\n",
    "\n",
    "We can also use the `ListDataObjectsRequest` to return all Data Objects in a platform that match an alias, in this case, the minid."
   ]
  },
  {
   "cell_type": "code",
   "execution_count": 78,
   "metadata": {},
   "outputs": [
    {
     "name": "stdout",
     "output_type": "stream",
     "text": [
      "46c8a5f1-15ab-48fa-8d1c-63099422e3c7\n",
      "1\n"
     ]
    }
   ],
   "source": [
    "list_request = ListDataObjectsRequest(alias=\"minid:ark:/57799/b9t991\")\n",
    "list_response = c.ListDataObjects(body=list_request).result()\n",
    "print(list_response.data_objects[0].id)\n",
    "print(len(list_response.data_objects))"
   ]
  },
  {
   "cell_type": "markdown",
   "metadata": {},
   "source": [
    "As we hoped, only a single item would be returned matching our minid. Now for this Data Object, we have links that allow it to be resolved using GUIDs both by a third party service, and within the platform!"
   ]
  },
  {
   "cell_type": "markdown",
   "metadata": {},
   "source": [
    "## Future Directions\n",
    "\n",
    "The [Data Storage System (DSS)](https://github.com/HumanCellAtlas/data-store), [dos-azul-lambda](https://github.com/DataBiosphere/dos-azul-lambda), and [dss-azul-indexer](https://github.com/DataBiosphere/dss-azul-indexer) are all available as Open Source software. Please check out their respective repositories for more information on current issues and places of active development.\n",
    "\n",
    "Many thanks to the UCSC CGP Team for making this demonstration possible.\n",
    "\n",
    "This case study was prepared to support [Identifier Interoperability](https://github.com/DataBiosphere/identifier-interoperability), please head to that document and issues to help make it easy for data platforms to interoperate to assist scientific discovery!"
   ]
  },
  {
   "cell_type": "code",
   "execution_count": null,
   "metadata": {},
   "outputs": [],
   "source": []
  }
 ],
 "metadata": {
  "kernelspec": {
   "display_name": "Python 2",
   "language": "python",
   "name": "python2"
  },
  "language_info": {
   "codemirror_mode": {
    "name": "ipython",
    "version": 2
   },
   "file_extension": ".py",
   "mimetype": "text/x-python",
   "name": "python",
   "nbconvert_exporter": "python",
   "pygments_lexer": "ipython2",
   "version": "2.7.12+"
  }
 },
 "nbformat": 4,
 "nbformat_minor": 2
}
